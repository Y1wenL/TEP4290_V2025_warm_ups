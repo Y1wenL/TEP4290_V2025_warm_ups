{
 "cells": [
  {
   "cell_type": "markdown",
   "metadata": {},
   "source": [
    "# Dynamic Modelling Course - TEP4290: Warm-up 8\n",
    "The point of this exercise is for you to practice what you have learned in the recommended video: \n",
    "\n",
    "- https://www.youtube.com/watch?v=GB9ByFAIAH4 (especially between time codes 11:08 and 23:14)\n",
    "- Numpy cheat sheet (also on blackboard): https://d20ohkaloyme4g.cloudfront.net/img/document_thumbnails/dc631e418f3609e00521cbd888ef771f/thumb_1200_849.png\n",
    "\n",
    "In the last task, you are required to use the **np.einsum()** method. This task is going a bit further but this method will prove very useful during the project. You can have a look at the documentation of this function here https://ajcr.net/Basic-guide-to-einsum/ but do not get scared of it yet, as we will have a look at it again later during the semester. \n",
    "\n",
    "Good luck!"
   ]
  },
  {
   "cell_type": "markdown",
   "metadata": {},
   "source": [
    "# About NumPy\n",
    "NumPy stands for 'Numerical Python' and is a open source standard library for Python, and one of the most popular ones (together with Pandas, SciPy, Matplotlib). \n",
    "\n",
    "It is centered around the _ndarray_ data structure, and is the first choice for mathematical work on matrix (like) objects - which is why in industrial ecology it is quite essential for LCA, IOA and MFA."
   ]
  },
  {
   "cell_type": "markdown",
   "metadata": {},
   "source": [
    "#####  Indexing in Python\n",
    "Since you will work with indices in this assignment, it is important to remember that Python indexes arrays (and anything else really) starting with zero. \n",
    "\n",
    "The list l = ['one', 'two', 'three'] therfore has 'one' at place 0 ( l[0] returns 'one'), 'two' at place 1 (l[1] returns 'two') and no entry exists for l[3]. "
   ]
  },
  {
   "cell_type": "markdown",
   "metadata": {},
   "source": [
    "# Tasks\n",
    "Complete the tasks outlined below to achieve the same output as you find in the original file. Use what you learned in the video or find a common \n"
   ]
  },
  {
   "cell_type": "markdown",
   "metadata": {},
   "source": [
    "### Import the package"
   ]
  },
  {
   "cell_type": "markdown",
   "metadata": {},
   "source": [
    "To use the functionalities offered by the NumPy package, you must first load it. Usually, NumPy is imported under the alias **np**."
   ]
  },
  {
   "cell_type": "markdown",
   "metadata": {},
   "source": [
    "Import the NumPy library under the alias \"**np**\"."
   ]
  },
  {
   "cell_type": "code",
   "execution_count": 1,
   "metadata": {},
   "outputs": [],
   "source": [
    "import numpy as np"
   ]
  },
  {
   "cell_type": "markdown",
   "metadata": {},
   "source": [
    "### Mastering the basics "
   ]
  },
  {
   "cell_type": "markdown",
   "metadata": {},
   "source": [
    "The main objects in the NumPy library are called **arrays**."
   ]
  },
  {
   "cell_type": "markdown",
   "metadata": {},
   "source": [
    "Create and display a one-dimension array containing three numbers of your choice."
   ]
  },
  {
   "cell_type": "code",
   "execution_count": 3,
   "metadata": {},
   "outputs": [
    {
     "data": {
      "text/plain": [
       "array([0, 0, 7])"
      ]
     },
     "execution_count": 3,
     "metadata": {},
     "output_type": "execute_result"
    }
   ],
   "source": [
    "a = np.array([0, 0, 7])\n",
    "a"
   ]
  },
  {
   "cell_type": "markdown",
   "metadata": {},
   "source": [
    "Create and display a two-dimension array containing six numbers of your choice."
   ]
  },
  {
   "cell_type": "code",
   "execution_count": 4,
   "metadata": {},
   "outputs": [
    {
     "data": {
      "text/plain": [
       "array([[1, 2, 3],\n",
       "       [4, 5, 6]])"
      ]
     },
     "execution_count": 4,
     "metadata": {},
     "output_type": "execute_result"
    }
   ],
   "source": [
    "b = np.array([[1, 2, 3], [4, 5, 6]])\n",
    "b"
   ]
  },
  {
   "cell_type": "markdown",
   "metadata": {},
   "source": [
    "Retrieve and display the size of the array you just created (number of rows and columns)."
   ]
  },
  {
   "cell_type": "code",
   "execution_count": 6,
   "metadata": {},
   "outputs": [
    {
     "data": {
      "text/plain": [
       "(2, 3)"
      ]
     },
     "execution_count": 6,
     "metadata": {},
     "output_type": "execute_result"
    }
   ],
   "source": [
    "b.shape"
   ]
  },
  {
   "cell_type": "markdown",
   "metadata": {},
   "source": [
    "Convert the following list into an array."
   ]
  },
  {
   "cell_type": "code",
   "execution_count": 9,
   "metadata": {},
   "outputs": [
    {
     "data": {
      "text/plain": [
       "array([4. , 5. , 6. , 1. , 2. , 3. , 7. , 3.5, 8. , 9. ])"
      ]
     },
     "execution_count": 9,
     "metadata": {},
     "output_type": "execute_result"
    }
   ],
   "source": [
    "sw = [4,5,6,1,2,3,7,3.5,8,9]\n",
    "sw = np.array(sw)\n",
    "sw"
   ]
  },
  {
   "cell_type": "markdown",
   "metadata": {},
   "source": [
    "During your project, you will sometimes work with arrays having above two dimensions. \n",
    "\n",
    "Define and display an array of dimension three, with each dimension having a size of two. The choice of coefficients is up to you."
   ]
  },
  {
   "cell_type": "code",
   "execution_count": 10,
   "metadata": {},
   "outputs": [
    {
     "data": {
      "text/plain": [
       "array([[[1, 2],\n",
       "        [3, 4]],\n",
       "\n",
       "       [[5, 6],\n",
       "        [7, 8]]])"
      ]
     },
     "execution_count": 10,
     "metadata": {},
     "output_type": "execute_result"
    }
   ],
   "source": [
    "c = np.array([[[1, 2], [3, 4]], [[5, 6], [7, 8]]])\n",
    "c\n"
   ]
  },
  {
   "cell_type": "markdown",
   "metadata": {},
   "source": [
    "### Accessing/changing specific elements, rows, columns..."
   ]
  },
  {
   "cell_type": "markdown",
   "metadata": {},
   "source": [
    "For this section, the tasks will be performed using an two-dimensions array made of random numbers. \n",
    "\n",
    "Note: we manually set a seed for the random module here to ensure everyone gets the same (pseudo) random numbers. This is simply a convenience for this exercise, if we don't set a seed, the current time will be taken automatically."
   ]
  },
  {
   "cell_type": "code",
   "execution_count": 23,
   "metadata": {},
   "outputs": [
    {
     "name": "stdout",
     "output_type": "stream",
     "text": [
      "[[0.54340494 0.27836939 0.42451759 0.84477613 0.00471886]\n",
      " [0.12156912 0.67074908 0.82585276 0.13670659 0.57509333]\n",
      " [0.89132195 0.20920212 0.18532822 0.10837689 0.21969749]\n",
      " [0.97862378 0.81168315 0.17194101 0.81622475 0.27407375]\n",
      " [0.43170418 0.94002982 0.81764938 0.33611195 0.17541045]]\n"
     ]
    }
   ],
   "source": [
    "np.random.seed( seed = 100)\n",
    "arr = np.random.rand(5,5)\n",
    "print(arr)"
   ]
  },
  {
   "cell_type": "markdown",
   "metadata": {},
   "source": [
    "Retrieve and display the 2nd coefficient in the 3rd row of the array. Watch out that indexes start at 0 for rows and columns."
   ]
  },
  {
   "cell_type": "code",
   "execution_count": 24,
   "metadata": {},
   "outputs": [
    {
     "name": "stdout",
     "output_type": "stream",
     "text": [
      "0.20920212211718958\n"
     ]
    }
   ],
   "source": [
    "a = arr[2,1]\n",
    "print(a)"
   ]
  },
  {
   "cell_type": "markdown",
   "metadata": {},
   "source": [
    "Retrieve and display the last column of the array. Change it to only zeros and display the new array."
   ]
  },
  {
   "cell_type": "code",
   "execution_count": 25,
   "metadata": {},
   "outputs": [
    {
     "name": "stdout",
     "output_type": "stream",
     "text": [
      "[0.00471886 0.57509333 0.21969749 0.27407375 0.17541045]\n",
      "[[0.54340494 0.27836939 0.42451759 0.84477613 0.        ]\n",
      " [0.12156912 0.67074908 0.82585276 0.13670659 0.        ]\n",
      " [0.89132195 0.20920212 0.18532822 0.10837689 0.        ]\n",
      " [0.97862378 0.81168315 0.17194101 0.81622475 0.        ]\n",
      " [0.43170418 0.94002982 0.81764938 0.33611195 0.        ]]\n"
     ]
    }
   ],
   "source": [
    "b = arr[:,-1]\n",
    "print(b)\n",
    "\n",
    "new_arr = arr.copy()\n",
    "new_arr[:,-1] = 0\n",
    "print(new_arr)"
   ]
  },
  {
   "cell_type": "code",
   "execution_count": 26,
   "metadata": {},
   "outputs": [
    {
     "data": {
      "text/plain": [
       "array([0.00471886, 0.57509333, 0.21969749, 0.27407375, 0.17541045])"
      ]
     },
     "execution_count": 26,
     "metadata": {},
     "output_type": "execute_result"
    }
   ],
   "source": [
    "arr[:,-1]"
   ]
  },
  {
   "cell_type": "markdown",
   "metadata": {},
   "source": [
    "Notice that depending on how you make the changes (if you work on the initial array or on a copy), you can change permanently the coefficients of the array. You can observe that if you run the last cell only, a second time: your last column displayed will now be all zeros, as according to your modifications. This shows that you may have to run the whole Jupyter notebook to reinitialize your array, and watch out in the future when you make modifications like this."
   ]
  },
  {
   "cell_type": "markdown",
   "metadata": {},
   "source": [
    " Change the first coefficient in the array to pi. Make sure that you change it to Python's pi number and not just a manual change to \"3.14159\" or similar."
   ]
  },
  {
   "cell_type": "code",
   "execution_count": 27,
   "metadata": {
    "scrolled": true
   },
   "outputs": [
    {
     "name": "stdout",
     "output_type": "stream",
     "text": [
      "[[3.14159265 3.14159265 3.14159265 3.14159265 3.14159265]\n",
      " [0.12156912 0.67074908 0.82585276 0.13670659 0.57509333]\n",
      " [0.89132195 0.20920212 0.18532822 0.10837689 0.21969749]\n",
      " [0.97862378 0.81168315 0.17194101 0.81622475 0.27407375]\n",
      " [0.43170418 0.94002982 0.81764938 0.33611195 0.17541045]]\n"
     ]
    }
   ],
   "source": [
    "import math\n",
    "\n",
    "arr[0] = math.pi\n",
    "print(arr)"
   ]
  },
  {
   "cell_type": "markdown",
   "metadata": {},
   "source": [
    "It will also be important for your project to understand how to work with multi-dimensional arrays (above 2). Create a random array of size (10,10,3) and, *considering that time and cohort start being accounted for in 1975*, access the coefficient corresponding to year t = 1976, cohort c = 1980, type j = 2 (with the three types being 0, 1 and 2). "
   ]
  },
  {
   "cell_type": "code",
   "execution_count": 30,
   "metadata": {},
   "outputs": [
    {
     "name": "stdout",
     "output_type": "stream",
     "text": [
      "25069.52291383959\n"
     ]
    }
   ],
   "source": [
    "np.random.seed(100)\n",
    "stock_tcj = 1e5 * np.random.rand(10,10,3) # random numbers\n",
    "print(stock_tcj[1,5,2])"
   ]
  },
  {
   "cell_type": "markdown",
   "metadata": {},
   "source": [
    "### Basic operations"
   ]
  },
  {
   "cell_type": "markdown",
   "metadata": {},
   "source": [
    "Add the following two arrays and display the result."
   ]
  },
  {
   "cell_type": "code",
   "execution_count": 31,
   "metadata": {},
   "outputs": [
    {
     "data": {
      "text/plain": [
       "array([4, 4, 4])"
      ]
     },
     "execution_count": 31,
     "metadata": {},
     "output_type": "execute_result"
    }
   ],
   "source": [
    "a = np.array([3,2,1])\n",
    "b = np.sort(a)\n",
    "\n",
    "a+b"
   ]
  },
  {
   "cell_type": "markdown",
   "metadata": {},
   "source": [
    "Multiply (element-wise) your result with the following array."
   ]
  },
  {
   "cell_type": "code",
   "execution_count": 32,
   "metadata": {},
   "outputs": [
    {
     "data": {
      "text/plain": [
       "array([ 8, 32, 12])"
      ]
     },
     "execution_count": 32,
     "metadata": {},
     "output_type": "execute_result"
    }
   ],
   "source": [
    "x = np.array([2,8,3])\n",
    "\n",
    "(a+b) * x\n"
   ]
  },
  {
   "cell_type": "markdown",
   "metadata": {},
   "source": [
    "Sort the following array and display the result."
   ]
  },
  {
   "cell_type": "code",
   "execution_count": 33,
   "metadata": {},
   "outputs": [
    {
     "data": {
      "text/plain": [
       "array([1. , 2. , 3. , 3.5, 4. , 5. , 6. , 7. , 8. , 9. ])"
      ]
     },
     "execution_count": 33,
     "metadata": {},
     "output_type": "execute_result"
    }
   ],
   "source": [
    "sw = np.array([4, 5, 6, 1, 2, 3, 7, 3.5, 8, 9])\n",
    "\n",
    "np.sort(sw)"
   ]
  },
  {
   "cell_type": "markdown",
   "metadata": {},
   "source": [
    "Perform an algebraic multiplication of the following two arrays using the **np.dot()** method and the **np.einsum()** method, and display the results."
   ]
  },
  {
   "cell_type": "code",
   "execution_count": 38,
   "metadata": {},
   "outputs": [
    {
     "name": "stdout",
     "output_type": "stream",
     "text": [
      "np.dot [140 320]\n",
      "np.einsum [140 320]\n"
     ]
    }
   ],
   "source": [
    "a = np.array([[1,2,3],[4,5,6]])\n",
    "b = np.array([10,20,30])\n",
    "\n",
    "print(\"np.dot\", a.dot(b))\n",
    "print(\"np.einsum\", np.einsum('ij,j->i', a, b))"
   ]
  }
 ],
 "metadata": {
  "kernelspec": {
   "display_name": "env-TEP4290",
   "language": "python",
   "name": "python3"
  },
  "language_info": {
   "codemirror_mode": {
    "name": "ipython",
    "version": 3
   },
   "file_extension": ".py",
   "mimetype": "text/x-python",
   "name": "python",
   "nbconvert_exporter": "python",
   "pygments_lexer": "ipython3",
   "version": "3.12.8"
  }
 },
 "nbformat": 4,
 "nbformat_minor": 4
}
