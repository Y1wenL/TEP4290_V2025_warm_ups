{
 "cells": [
  {
   "cell_type": "markdown",
   "metadata": {},
   "source": [
    "# Dynamic Modelling Course - TEP4290: Warm-up 13\n",
    "The point of this exercise is for you to get familiar with the main errors that you will encounter while programming in Python and how to solve them. \n",
    "\n",
    "Bascally, there exists different types of errors which will hint you to where to look for and debug (fix) it. By learning to do this, you should learn to become a more independent programmer and translate similar issues that other people have had into your own context. \n",
    "\n",
    "We will learn about SyntaxError, KeyError, ValueError amongst other. \n",
    "\n",
    "Useful resources include: \n",
    "\n",
    "- https://aguaclara.github.io/aguaclara_tutorial/python/python-common-errors.html \n",
    "- https://edcarp.github.io/2018-11-06-edinburgh-igmm-python/07-errors/index.html \n",
    "- https://learningactors.com/python-keyerror-exceptions-and-how-to-handle-them/\n",
    "\n",
    "For catching exceptions: \n",
    "- https://www.tutorialsteacher.com/python/exception-handling-in-python \n",
    "\n",
    "About debugging with a standard python package:\n",
    "- https://www.youtube.com/watch?v=ChuU3NlYRLQ\n",
    "\n",
    "The exercise is pass/fail.\n",
    "\n",
    "Good luck!"
   ]
  },
  {
   "cell_type": "markdown",
   "metadata": {},
   "source": [
    "# Errors and Exceptions"
   ]
  },
  {
   "cell_type": "markdown",
   "metadata": {},
   "source": [
    "No matter your skill as a programmer, you will eventually make a coding mistake.\n",
    "Such mistakes come in three basic flavors:\n",
    "\n",
    "- *Syntax errors:* Errors where the code is not valid Python (generally easy to fix)\n",
    "- *Runtime errors:* Errors where syntactically valid code fails to execute, perhaps due to invalid user input (sometimes easy to fix)\n",
    "- *Semantic errors:* Errors in logic: code executes without a problem, but the result is not what you expect (often very difficult to track-down and fix)\n",
    "\n",
    "Here we're going to focus on how to deal cleanly with *runtime errors*.\n",
    "As we'll see, Python handles runtime errors via its *exception handling* framework."
   ]
  },
  {
   "cell_type": "markdown",
   "metadata": {},
   "source": [
    "# Debugging\n",
    "While there is a whole world of debugging culture out there - often with add-ons or dedicated programs for debugging, but you don't have to go so far to effectively debug. We already spoke about syntax and runtime errors, but you will likely spend a lot of time on figuring out semantic errors or runtime errors connected to semantic errors.\n",
    "\n",
    "**The easiest way of debugging is using the __print__ statement!**\n",
    "\n",
    "While you may use any workflow that pleases you, just inserting print statements in your code to check what your variables do is often more than enough to understand the mistage you get."
   ]
  },
  {
   "cell_type": "markdown",
   "metadata": {},
   "source": [
    "## Imports\n",
    "first we import what we need to for this assignment:"
   ]
  },
  {
   "cell_type": "code",
   "execution_count": 36,
   "metadata": {},
   "outputs": [],
   "source": [
    "import numpy as np\n",
    "import pandas as pd"
   ]
  },
  {
   "cell_type": "markdown",
   "metadata": {},
   "source": [
    "# Tasks"
   ]
  },
  {
   "cell_type": "markdown",
   "metadata": {},
   "source": [
    "## By looking at the errors that are returned, fix the following Runtime Errors\n",
    "\n",
    "If you've done any coding in Python, you've likely come across runtime errors.\n",
    "They can happen in a lot of ways.\n",
    "\n",
    "For example, if you try to reference an undefined variable:"
   ]
  },
  {
   "cell_type": "code",
   "execution_count": 37,
   "metadata": {},
   "outputs": [
    {
     "name": "stdout",
     "output_type": "stream",
     "text": [
      "6\n"
     ]
    }
   ],
   "source": [
    "Q = 6\n",
    "print(Q)"
   ]
  },
  {
   "cell_type": "markdown",
   "metadata": {},
   "source": [
    "Or if you try an operation that's not defined:"
   ]
  },
  {
   "cell_type": "code",
   "execution_count": 38,
   "metadata": {},
   "outputs": [
    {
     "data": {
      "text/plain": [
       "'abcdef'"
      ]
     },
     "execution_count": 38,
     "metadata": {},
     "output_type": "execute_result"
    }
   ],
   "source": [
    "1 + 2\n",
    "'abc' + 'def'"
   ]
  },
  {
   "cell_type": "markdown",
   "metadata": {},
   "source": [
    "Or you might be trying to compute a mathematically ill-defined result:"
   ]
  },
  {
   "cell_type": "code",
   "execution_count": 39,
   "metadata": {},
   "outputs": [
    {
     "data": {
      "text/plain": [
       "2.0"
      ]
     },
     "execution_count": 39,
     "metadata": {},
     "output_type": "execute_result"
    }
   ],
   "source": [
    "2 / 1"
   ]
  },
  {
   "cell_type": "markdown",
   "metadata": {},
   "source": [
    "Or maybe you're trying to access a sequence element that doesn't exist:"
   ]
  },
  {
   "cell_type": "code",
   "execution_count": 40,
   "metadata": {},
   "outputs": [
    {
     "data": {
      "text/plain": [
       "2"
      ]
     },
     "execution_count": 40,
     "metadata": {},
     "output_type": "execute_result"
    }
   ],
   "source": [
    "L = [1, 2, 3]\n",
    "L[1]"
   ]
  },
  {
   "cell_type": "markdown",
   "metadata": {},
   "source": [
    "## Let's fix some Syntax Errors too\n",
    "\n",
    "PS: Syntax error, much like in a normal sentence, often means you typed something wrong. \n",
    "\n",
    "Useful: https://www.raiseupwa.com/miscellaneous/what-is-syntax-error-in-python-example/ "
   ]
  },
  {
   "cell_type": "code",
   "execution_count": 41,
   "metadata": {},
   "outputs": [
    {
     "name": "stdout",
     "output_type": "stream",
     "text": [
      "x is smaller than 5\n",
      "x is smaller than 5\n",
      "x is smaller than 5\n",
      "x is smaller than 5\n",
      "x is smaller than 5\n"
     ]
    }
   ],
   "source": [
    "x = 0\n",
    "\n",
    "while x < 5:\n",
    "    print('x is smaller than 5')\n",
    "    x +=1"
   ]
  },
  {
   "cell_type": "code",
   "execution_count": 42,
   "metadata": {},
   "outputs": [],
   "source": [
    "for x in range(5):\n",
    "    y = x + 1"
   ]
  },
  {
   "cell_type": "markdown",
   "metadata": {},
   "source": [
    "## Attribute errors are also common when starting to program. Can you fix these?"
   ]
  },
  {
   "cell_type": "code",
   "execution_count": 43,
   "metadata": {},
   "outputs": [],
   "source": [
    "my_tuple = [1, 2, 3]\n",
    "my_tuple.reverse()"
   ]
  },
  {
   "cell_type": "code",
   "execution_count": 44,
   "metadata": {},
   "outputs": [],
   "source": [
    "data = pd.DataFrame({'Data': [1,2,3,4]})\n"
   ]
  },
  {
   "cell_type": "code",
   "execution_count": 45,
   "metadata": {},
   "outputs": [
    {
     "data": {
      "text/html": [
       "<div>\n",
       "<style scoped>\n",
       "    .dataframe tbody tr th:only-of-type {\n",
       "        vertical-align: middle;\n",
       "    }\n",
       "\n",
       "    .dataframe tbody tr th {\n",
       "        vertical-align: top;\n",
       "    }\n",
       "\n",
       "    .dataframe thead th {\n",
       "        text-align: right;\n",
       "    }\n",
       "</style>\n",
       "<table border=\"1\" class=\"dataframe\">\n",
       "  <thead>\n",
       "    <tr style=\"text-align: right;\">\n",
       "      <th></th>\n",
       "      <th>Data</th>\n",
       "    </tr>\n",
       "  </thead>\n",
       "  <tbody>\n",
       "    <tr>\n",
       "      <th>0</th>\n",
       "      <td>1</td>\n",
       "    </tr>\n",
       "    <tr>\n",
       "      <th>1</th>\n",
       "      <td>2</td>\n",
       "    </tr>\n",
       "    <tr>\n",
       "      <th>2</th>\n",
       "      <td>3</td>\n",
       "    </tr>\n",
       "    <tr>\n",
       "      <th>3</th>\n",
       "      <td>4</td>\n",
       "    </tr>\n",
       "  </tbody>\n",
       "</table>\n",
       "</div>"
      ],
      "text/plain": [
       "   Data\n",
       "0     1\n",
       "1     2\n",
       "2     3\n",
       "3     4"
      ]
     },
     "execution_count": 45,
     "metadata": {},
     "output_type": "execute_result"
    }
   ],
   "source": [
    "# A little refresher for syntax errors\n",
    "data.head()"
   ]
  },
  {
   "cell_type": "markdown",
   "metadata": {},
   "source": [
    "## Type errors:"
   ]
  },
  {
   "cell_type": "code",
   "execution_count": 46,
   "metadata": {},
   "outputs": [
    {
     "data": {
      "text/plain": [
       "3.5"
      ]
     },
     "execution_count": 46,
     "metadata": {},
     "output_type": "execute_result"
    }
   ],
   "source": [
    "def sum(x, y):\n",
    "      z = x + y\n",
    "      return z\n",
    "\n",
    "sum(3, 4)/2"
   ]
  },
  {
   "cell_type": "code",
   "execution_count": 47,
   "metadata": {},
   "outputs": [
    {
     "data": {
      "text/plain": [
       "[1, 2, 3, 4, 5, 6]"
      ]
     },
     "execution_count": 47,
     "metadata": {},
     "output_type": "execute_result"
    }
   ],
   "source": [
    "x = [1,2,3]\n",
    "y = [4,5,6]\n",
    "\n",
    "x + y"
   ]
  },
  {
   "cell_type": "markdown",
   "metadata": {},
   "source": [
    "## Finally, Key Errors"
   ]
  },
  {
   "cell_type": "code",
   "execution_count": 48,
   "metadata": {},
   "outputs": [
    {
     "data": {
      "text/plain": [
       "array([120])"
      ]
     },
     "execution_count": 48,
     "metadata": {},
     "output_type": "execute_result"
    }
   ],
   "source": [
    "data = pd.DataFrame({'Year': [2000, 2001, 2002], 'Inflow': [100, 120, 150]})\n",
    "\n",
    "# Find the value for year 2001\n",
    "data.loc[data['Year']==2001, 'Inflow'].values"
   ]
  },
  {
   "cell_type": "markdown",
   "metadata": {},
   "source": [
    "## Finding errors with print statements\n",
    "The next cell contains a simple construct of two functions and will result in an error if you use 102 as the input. \n",
    "\n",
    "Your task is to find what the error is, and where it occurs - what are the variables related to the error, what is their state? For this purpose, use print() within the function to get the exact values of everything that might be relevant!\n",
    "\n",
    "**You do not need to fix the error!**\n",
    "\n",
    "you can try to change the input for the last function to a different seed - what is the changed state now?"
   ]
  },
  {
   "cell_type": "code",
   "execution_count": 49,
   "metadata": {},
   "outputs": [
    {
     "name": "stdout",
     "output_type": "stream",
     "text": [
      "Array2: [53.61085252 17.31619728 16.59375783 11.04694724 32.58528804 89.74140359\n",
      " 54.84370422 24.13703223 32.80036008 58.89284048 79.51706046 48.11718456\n",
      " 57.61860106 59.01139873 79.78978019 77.8123727  66.66474271 51.12254906\n",
      " 53.63547872 17.32220015]\n",
      "Results: [-45.23686013  16.03443197  69.34181668  -0.47826371  20.97871637\n",
      " -83.37244662 -25.16024635 -23.91250855  12.31123086  29.46912015\n",
      " -21.81130043 -23.22941268 -23.46329565 -51.99157011 -25.94225499\n",
      " -25.26399989  15.21492098  17.51050929   9.46123348  19.71671319]\n",
      "random scaling array1: [67.57450159 90.81579981 53.5487007  18.42208873  9.1359579  57.10584311\n",
      " 82.4650321  15.72205997 65.86791614  9.19361201 94.84933192  9.57753628\n",
      " 42.94092622 62.6999762  77.04111163 47.32475018 27.96763837 24.83980175\n",
      "  9.77562712 75.45562096]\n",
      "Rounded number: -45\n",
      "Rounded number: 16\n",
      "Rounded number: 69\n",
      "Rounded number: 0\n"
     ]
    },
    {
     "ename": "ZeroDivisionError",
     "evalue": "division by zero",
     "output_type": "error",
     "traceback": [
      "\u001b[1;31m---------------------------------------------------------------------------\u001b[0m",
      "\u001b[1;31mZeroDivisionError\u001b[0m                         Traceback (most recent call last)",
      "Cell \u001b[1;32mIn[49], line 33\u001b[0m\n\u001b[0;32m     28\u001b[0m         scaled_results\u001b[38;5;241m.\u001b[39mappend(scaled_number)\n\u001b[0;32m     30\u001b[0m     \u001b[38;5;28;01mreturn\u001b[39;00m scaled_results\n\u001b[1;32m---> 33\u001b[0m \u001b[43mdo_random_shit\u001b[49m\u001b[43m(\u001b[49m\u001b[38;5;241;43m105\u001b[39;49m\u001b[43m)\u001b[49m\n",
      "Cell \u001b[1;32mIn[49], line 14\u001b[0m, in \u001b[0;36mdo_random_shit\u001b[1;34m(seed)\u001b[0m\n\u001b[0;32m     11\u001b[0m results \u001b[38;5;241m=\u001b[39m np\u001b[38;5;241m.\u001b[39msubtract(array1, array2)\n\u001b[0;32m     12\u001b[0m \u001b[38;5;28mprint\u001b[39m(\u001b[38;5;124m'\u001b[39m\u001b[38;5;124mResults:\u001b[39m\u001b[38;5;124m'\u001b[39m, results)\n\u001b[1;32m---> 14\u001b[0m new_results \u001b[38;5;241m=\u001b[39m \u001b[43mrandom_scaling\u001b[49m\u001b[43m(\u001b[49m\u001b[43mresults\u001b[49m\u001b[43m)\u001b[49m\n\u001b[0;32m     15\u001b[0m \u001b[38;5;28;01mreturn\u001b[39;00m new_results\n",
      "Cell \u001b[1;32mIn[49], line 27\u001b[0m, in \u001b[0;36mrandom_scaling\u001b[1;34m(array)\u001b[0m\n\u001b[0;32m     25\u001b[0m     \u001b[38;5;28mprint\u001b[39m(\u001b[38;5;124m'\u001b[39m\u001b[38;5;124mRounded number:\u001b[39m\u001b[38;5;124m'\u001b[39m, rounded_number)\n\u001b[0;32m     26\u001b[0m     rounded_base \u001b[38;5;241m=\u001b[39m \u001b[38;5;28mint\u001b[39m(base)        \n\u001b[1;32m---> 27\u001b[0m     scaled_number \u001b[38;5;241m=\u001b[39m \u001b[43mrounded_base\u001b[49m\u001b[38;5;241;43m/\u001b[39;49m\u001b[43mrounded_number\u001b[49m\n\u001b[0;32m     28\u001b[0m     scaled_results\u001b[38;5;241m.\u001b[39mappend(scaled_number)\n\u001b[0;32m     30\u001b[0m \u001b[38;5;28;01mreturn\u001b[39;00m scaled_results\n",
      "\u001b[1;31mZeroDivisionError\u001b[0m: division by zero"
     ]
    }
   ],
   "source": [
    "def do_random_shit(seed:int):\n",
    "    '''Just does something weird and unesseary.'''\n",
    "    #set seed to make sure we always get the same\n",
    "    np.random.seed(seed)\n",
    "\n",
    "    #create two random arrays of length 20 and scale them up \n",
    "    array1 = np.random.rand(20)*100\n",
    "    array2 = np.random.rand(20)*100\n",
    "    print('Array2:', array2)\n",
    "\n",
    "    results = np.subtract(array1, array2)\n",
    "    print('Results:', results)\n",
    "\n",
    "    new_results = random_scaling(results)\n",
    "    return new_results\n",
    "    \n",
    "\n",
    "def random_scaling(array):\n",
    "    '''Simple scaling of a random array with the input array .'''\n",
    "    array1 = np.random.rand(np.size(array))*100 #random array that will be scaled\n",
    "    print('random scaling array1:', array1)\n",
    "    scaled_results = [] #emtpy result list \n",
    "    for number, base in zip(array, array1): #iterating through both arrays simultaneously\n",
    "        rounded_number = int(number) #rounding the scaling factor to an int\n",
    "        print('Rounded number:', rounded_number)\n",
    "        rounded_base = int(base)        \n",
    "        scaled_number = rounded_base/rounded_number\n",
    "        scaled_results.append(scaled_number)\n",
    "    \n",
    "    return scaled_results\n",
    "\n",
    "\n",
    "do_random_shit(105)\n",
    "\n"
   ]
  },
  {
   "cell_type": "code",
   "execution_count": null,
   "metadata": {},
   "outputs": [],
   "source": []
  },
  {
   "cell_type": "markdown",
   "metadata": {},
   "source": [
    "#### answering the last question\n",
    "\n",
    "the state of the different variables and what caused the error:\n",
    "\n",
    "error: it is a mathmatical error that some of denominator becomes 0\n",
    "\n",
    "variables: \n",
    "\n",
    "results list: this list contains all the values which will be treated to be denominator in the iteration  \n",
    "rounded_number: this variable is a rounded number of values from results list, and it is denominator for next calcuation\n"
   ]
  }
 ],
 "metadata": {
  "kernelspec": {
   "display_name": "env-TEP4290",
   "language": "python",
   "name": "python3"
  },
  "language_info": {
   "codemirror_mode": {
    "name": "ipython",
    "version": 3
   },
   "file_extension": ".py",
   "mimetype": "text/x-python",
   "name": "python",
   "nbconvert_exporter": "python",
   "pygments_lexer": "ipython3",
   "version": "3.12.8"
  },
  "orig_nbformat": 4
 },
 "nbformat": 4,
 "nbformat_minor": 2
}
